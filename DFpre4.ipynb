{
 "cells": [
  {
   "cell_type": "markdown",
   "id": "81259c43",
   "metadata": {},
   "source": [
    "Here I am using toy naive examples and tests. The data sets are just Gaussian sequences. Here $Y_{T + 1}$ is rejected if  $$|Y_{T + 1}| > Q_{1 - \\alpha}\\{|Y_1|, |Y_2|, \\dots, |Y_{T + 1}|\\}.$$\n",
    "\n",
    "I am not sure about how to do test in streaming settings, so what I wrote here can be completely wrong. Also some functions are quite slow. Feel free to make any modification if you want. \n",
    "\n",
    "(The running time of this notebook is approximately 10 mins.) "
   ]
  },
  {
   "cell_type": "markdown",
   "id": "b4205fc6",
   "metadata": {},
   "source": [
    "# Helper functions"
   ]
  },
  {
   "cell_type": "code",
   "execution_count": 1,
   "id": "52ce2f4d",
   "metadata": {},
   "outputs": [],
   "source": [
    "import numpy as np\n",
    "import matplotlib.pyplot as plt\n",
    "\n",
    "def Gau_seq(T, r, sd1, sd2, loc = 0):\n",
    "    \"\"\"\n",
    "    Generate a sequence of Gaussian variables of length T.\n",
    "    \n",
    "    :param T: length of sequence\n",
    "    :param r: ratio of outliers\n",
    "    :param sd1: standard deviation of inliers\n",
    "    :param sd2: standard deviation of outliers\n",
    "    :param loc: mean of outliers\n",
    "    \n",
    "    :return: a numpy vector of data\n",
    "    \n",
    "    \"\"\"\n",
    "    #Indicators with z = 1 for outliers\n",
    "    z = np.random.uniform(0, 1, T) < r\n",
    "    \n",
    "    #Generate the sequence\n",
    "    seq = np.random.normal(0, sd1, T) * (1 - z) + np.random.normal(loc, sd2, T) * z\n",
    "    \n",
    "    return(seq, z)\n",
    "            \n",
    "    "
   ]
  },
  {
   "cell_type": "code",
   "execution_count": 2,
   "id": "66c9d77c",
   "metadata": {},
   "outputs": [],
   "source": [
    "def Test(seq, alpha = 0.05):\n",
    "    \"\"\"\n",
    "    Test if Y_T is an outlier. Under null hypothesis, we know \n",
    "        |Y_T| \\le Q_{1 - \\alpha}(|Y_1|, \\dots, Y_T)\n",
    "        \n",
    "    We return TURE is Y_T is an outlier\n",
    "    \"\"\"\n",
    "    abs_seq = abs(seq)\n",
    "    \n",
    "    comparison = abs_seq < abs_seq[-1]\n",
    "    \n",
    "    return( sum(comparison) > (1 - alpha) * len(seq) )"
   ]
  },
  {
   "cell_type": "markdown",
   "id": "fdf69487",
   "metadata": {},
   "source": [
    "# Part(a)\n",
    "\n",
    "Does the presence of outlier(s) before time $t$, tend to cause us to be more conservative or less conservative for detecting an outlier at time $t$, in practice?"
   ]
  },
  {
   "cell_type": "code",
   "execution_count": 3,
   "id": "58dd51a1",
   "metadata": {},
   "outputs": [],
   "source": [
    "def part_a(T = 100, r = 0.2, sd1 = 1, sd2 = 3, loc = 0, seed = 123, N = 200):\n",
    "    \"\"\"\n",
    "    Do experiments for N times and compute power and type 1 error with method in part(a)\n",
    "    \n",
    "    :param T: length of sequence\n",
    "    :param r: ratio of outliers\n",
    "    :param sd1: standard deviation of inliers\n",
    "    :param sd2: standard deviation of outliers\n",
    "    :param loc: mean of outliers\n",
    "    :param seed: a random seet\n",
    "    :param N: number of repeated trials\n",
    "    \"\"\"\n",
    "    np.random.seed(seed)\n",
    "    \n",
    "    results_out = np.zeros(N)\n",
    "    results_in = np.zeros(N)\n",
    "    \n",
    "    for i in range(0, N):\n",
    "        #Generate a sequence\n",
    "        X, z = Gau_seq(T, r, sd1, sd2, loc)\n",
    "        \n",
    "        #X_{T+1} is an outlier\n",
    "        outlier = np.random.normal(loc, sd2, 1)\n",
    "        X_out = np.append(X, outlier)\n",
    "        results_out[i] = Test(X_out)\n",
    " \n",
    "        \n",
    "        #X_{T+1} is an inlier\n",
    "        inlier = np.random.normal(0, sd1, 1)\n",
    "        X_in = np.append(X, inlier)\n",
    "        results_in[i] = Test(X_in)\n",
    "    \n",
    "    return(sum(results_out)/N, sum(results_in)/N )\n",
    "    \n",
    "    "
   ]
  },
  {
   "cell_type": "code",
   "execution_count": 4,
   "id": "77779e3c",
   "metadata": {},
   "outputs": [],
   "source": [
    "#Set different sd2 for outliers\n",
    "sd2 = np.arange(0, 5.1, 0.1)\n",
    "Power = np.zeros(len(sd2))\n",
    "TypeI = np.zeros(len(sd2))"
   ]
  },
  {
   "cell_type": "code",
   "execution_count": 5,
   "id": "c1ccc7e6",
   "metadata": {},
   "outputs": [
    {
     "name": "stdout",
     "output_type": "stream",
     "text": [
      "1.9607843137254901%\n",
      "11.76470588235294%\n",
      "21.568627450980394%\n",
      "31.372549019607842%\n",
      "41.17647058823529%\n",
      "50.98039215686274%\n",
      "60.78431372549019%\n",
      "70.58823529411765%\n",
      "80.3921568627451%\n",
      "90.19607843137256%\n",
      "100.0%\n"
     ]
    }
   ],
   "source": [
    "for i in range(0, len(sd2)):\n",
    "    Power[i], TypeI[i] = part_a(T = 100, r = 0.2, sd1 = 1, sd2 = sd2[i], \n",
    "                                loc = 0, N = 500, seed =123)\n",
    "    \n",
    "    if i % 5 == 0:\n",
    "        print( str((i + 1) / len(sd2) * 100) + \"%\" )"
   ]
  },
  {
   "cell_type": "code",
   "execution_count": 6,
   "id": "57b0a886",
   "metadata": {},
   "outputs": [
    {
     "data": {
      "image/png": "[encoded data removed]",
      "text/plain": [
       "<Figure size 432x288 with 1 Axes>"
      ]
     },
     "metadata": {
      "needs_background": "light"
     },
     "output_type": "display_data"
    }
   ],
   "source": [
    "plt.plot(sd2, Power, label = \"Power\")\n",
    "plt.plot(sd2, TypeI, label = \"Type I error\")\n",
    "plt.xlabel(\"sd of outlier\")\n",
    "\n",
    "plt.legend();"
   ]
  },
  {
   "cell_type": "markdown",
   "id": "508d8dd6",
   "metadata": {},
   "source": [
    "# Part(b)\n",
    "\n",
    "Are there ways to modify the procedure (i.e., the method of applying conformal prediction in a streaming way), to reduce any problems you've identified? For example, what if we try dropping any outliers -- say, if we reject at time ii and flag ($X_i$,$Y_i$) as an outlier, can we then drop this data point for future tests, like at time $i+1$ we compare ($X_{i+1},Y_{i+1}$)\n",
    " against $(X_1,Y_1),...,(X_{i-1},Y_{i-1})$? Would this \"dropping\" modification fix the problem, or might it introduce new issues?\n",
    "\n"
   ]
  },
  {
   "cell_type": "markdown",
   "id": "ef8b6cc8",
   "metadata": {},
   "source": [
    "Suppose we want to test if $X_{T+1}$ is an outlier. We implememnt this method and check its average performance under two scenarios:\n",
    "1. No outliers\n",
    "2. 20% of the data are outliers"
   ]
  },
  {
   "cell_type": "code",
   "execution_count": 7,
   "id": "be518502",
   "metadata": {},
   "outputs": [],
   "source": [
    "def part_b(T = 100, r = 0.2, sd1 = 1, sd2 = 3, loc = 0, seed = 123, N = 200):\n",
    "    \"\"\"\n",
    "    Do experiments for N times and compute power and type 1 error with method in part(b)\n",
    "\n",
    "    \n",
    "    :param T: length of sequence\n",
    "    :param r: ratio of outliers\n",
    "    :param sd1: standard deviation of inliers\n",
    "    :param sd2: standard deviation of outliers\n",
    "    :param loc: mean of outliers\n",
    "    :param seed: a random seet\n",
    "    :param N: number of repeated trials\n",
    "    \"\"\"\n",
    "    np.random.seed(seed)\n",
    "    \n",
    "    results_in = np.zeros(N)\n",
    "    results_out = np.zeros(N)\n",
    "    for i in range(0, N):\n",
    "        #Generate a sequence\n",
    "        X, z = Gau_seq(T, r, sd1, sd2, loc)\n",
    "        \n",
    "        seq = np.array([X[0]]) #The data before time T that we do not drop\n",
    "        for t in range(1, T):\n",
    "            temp_seq = np.append(seq, X[t])\n",
    "            if not Test(temp_seq):\n",
    "                seq = temp_seq\n",
    "        \n",
    "        #X_{T+1} is an outlier\n",
    "        outlier = np.random.normal(loc, sd2, 1)\n",
    "        X_out = np.append(seq, outlier)\n",
    "        results_out[i] = Test(X_out)\n",
    " \n",
    "        \n",
    "        #X_{T+1} is an inlier\n",
    "        inlier = np.random.normal(0, sd1, 1)\n",
    "        X_in = np.append(seq, inlier)\n",
    "        results_in[i] = Test(X_in)\n",
    "    \n",
    "    return(sum(results_out)/N, sum(results_in)/N )"
   ]
  },
  {
   "cell_type": "code",
   "execution_count": 8,
   "id": "b5c0b9ff",
   "metadata": {},
   "outputs": [],
   "source": [
    "Ts = np.arange(40, 260, 20)\n",
    "Power = np.zeros(len(Ts))\n",
    "TypeI = np.zeros(len(Ts))"
   ]
  },
  {
   "cell_type": "code",
   "execution_count": 9,
   "id": "38b573b7",
   "metadata": {},
   "outputs": [
    {
     "name": "stdout",
     "output_type": "stream",
     "text": [
      "9.090909090909092%\n",
      "18.181818181818183%\n",
      "27.27272727272727%\n",
      "36.36363636363637%\n",
      "45.45454545454545%\n",
      "54.54545454545454%\n",
      "63.63636363636363%\n",
      "72.72727272727273%\n",
      "81.81818181818183%\n",
      "90.9090909090909%\n",
      "100.0%\n"
     ]
    }
   ],
   "source": [
    "#Case when 20% of data are outliers\n",
    "for i in range(0, len(Ts)):\n",
    "    Power[i], TypeI[i] = part_b(T = Ts[i], r = 0.2, sd1 = 1, sd2 = 3, \n",
    "                                loc = 0, N = 500, seed =123)\n",
    "    print( str((i + 1) / len(Ts) * 100) + \"%\" )"
   ]
  },
  {
   "cell_type": "code",
   "execution_count": 10,
   "id": "adaab534",
   "metadata": {},
   "outputs": [
    {
     "data": {
      "image/png": "[encoded data removed]",
      "text/plain": [
       "<Figure size 432x288 with 1 Axes>"
      ]
     },
     "metadata": {
      "needs_background": "light"
     },
     "output_type": "display_data"
    }
   ],
   "source": [
    "plt.plot(Ts, Power, label = \"Power\")\n",
    "plt.plot(Ts, TypeI, label = \"Type I error\")\n",
    "plt.xlabel(\"Length T\")\n",
    "plt.legend();\n"
   ]
  },
  {
   "cell_type": "code",
   "execution_count": 11,
   "id": "66f3878b",
   "metadata": {},
   "outputs": [
    {
     "name": "stdout",
     "output_type": "stream",
     "text": [
      "9.090909090909092%\n",
      "18.181818181818183%\n",
      "27.27272727272727%\n",
      "36.36363636363637%\n",
      "45.45454545454545%\n",
      "54.54545454545454%\n",
      "63.63636363636363%\n",
      "72.72727272727273%\n",
      "81.81818181818183%\n",
      "90.9090909090909%\n",
      "100.0%\n"
     ]
    }
   ],
   "source": [
    "#Also look at method without dropping data\n",
    "for i in range(0, len(Ts)):\n",
    "    Power[i], TypeI[i] = part_a(T = Ts[i], r = 0.2, sd1 = 1, sd2 = 3, \n",
    "                                loc = 0, N = 500, seed = 123)\n",
    "    print( str((i + 1) / len(Ts) * 100) + \"%\" )"
   ]
  },
  {
   "cell_type": "code",
   "execution_count": 12,
   "id": "2f65fb83",
   "metadata": {},
   "outputs": [
    {
     "data": {
      "image/png": "[encoded data removed]",
      "text/plain": [
       "<Figure size 432x288 with 1 Axes>"
      ]
     },
     "metadata": {
      "needs_background": "light"
     },
     "output_type": "display_data"
    }
   ],
   "source": [
    "plt.plot(Ts, Power, label = \"Power\")\n",
    "plt.plot(Ts, TypeI,  label = \"Type I error\")\n",
    "plt.xlabel(\"Length T\")\n",
    "plt.legend();"
   ]
  },
  {
   "cell_type": "code",
   "execution_count": 13,
   "id": "66912c63",
   "metadata": {},
   "outputs": [
    {
     "name": "stdout",
     "output_type": "stream",
     "text": [
      "9.090909090909092%\n",
      "18.181818181818183%\n",
      "27.27272727272727%\n",
      "36.36363636363637%\n",
      "45.45454545454545%\n",
      "54.54545454545454%\n",
      "63.63636363636363%\n",
      "72.72727272727273%\n",
      "81.81818181818183%\n",
      "90.9090909090909%\n",
      "100.0%\n"
     ]
    }
   ],
   "source": [
    "#Case when  0% of data are outliers\n",
    "for i in range(0, len(Ts)):\n",
    "    Power[i], TypeI[i] = part_b(T = Ts[i], r = 0, sd1 = 1, sd2 = 3, \n",
    "                                loc = 0, N = 500, seed =123)\n",
    "    print( str((i + 1) / len(Ts) * 100) + \"%\" )"
   ]
  },
  {
   "cell_type": "code",
   "execution_count": 14,
   "id": "8e37620f",
   "metadata": {},
   "outputs": [
    {
     "data": {
      "image/png": "[encoded data removed]",
      "text/plain": [
       "<Figure size 432x288 with 1 Axes>"
      ]
     },
     "metadata": {
      "needs_background": "light"
     },
     "output_type": "display_data"
    }
   ],
   "source": [
    "plt.plot(Ts, Power, label = \"Power\")\n",
    "plt.plot(Ts, TypeI, label = \"Type I error\")\n",
    "plt.xlabel(\"Length T\")\n",
    "plt.legend();\n"
   ]
  },
  {
   "cell_type": "code",
   "execution_count": 15,
   "id": "47b60e84",
   "metadata": {},
   "outputs": [
    {
     "name": "stdout",
     "output_type": "stream",
     "text": [
      "9.090909090909092%\n",
      "18.181818181818183%\n",
      "27.27272727272727%\n",
      "36.36363636363637%\n",
      "45.45454545454545%\n",
      "54.54545454545454%\n",
      "63.63636363636363%\n",
      "72.72727272727273%\n",
      "81.81818181818183%\n",
      "90.9090909090909%\n",
      "100.0%\n"
     ]
    }
   ],
   "source": [
    "#Also look at method without dropping data\n",
    "for i in range(0, len(Ts)):\n",
    "    Power[i], TypeI[i] = part_a(T = Ts[i], r = 0, sd1 = 1, sd2 = 3, \n",
    "                                loc = 0, N = 500, seed =123)\n",
    "    print( str((i + 1) / len(Ts) * 100) + \"%\" )"
   ]
  },
  {
   "cell_type": "code",
   "execution_count": 16,
   "id": "6c8e256e",
   "metadata": {},
   "outputs": [
    {
     "data": {
      "image/png": "[encoded data removed]",
      "text/plain": [
       "<Figure size 432x288 with 1 Axes>"
      ]
     },
     "metadata": {
      "needs_background": "light"
     },
     "output_type": "display_data"
    }
   ],
   "source": [
    "plt.plot(Ts, Power, label = \"Power\")\n",
    "plt.plot(Ts, TypeI, label = \"Type I error\")\n",
    "plt.xlabel(\"Length T\")\n",
    "plt.legend();\n"
   ]
  },
  {
   "cell_type": "markdown",
   "id": "7b48612d",
   "metadata": {},
   "source": [
    "# Part (c)"
   ]
  },
  {
   "cell_type": "markdown",
   "id": "f5f564b8",
   "metadata": {},
   "source": [
    "## Modification 1:\n",
    "\n",
    "As Karl suggested, each time we find an potential outlier,we drop it with some probability"
   ]
  },
  {
   "cell_type": "code",
   "execution_count": 17,
   "id": "6d945ab0",
   "metadata": {},
   "outputs": [],
   "source": [
    "def part_c_prob(T = 100, r = 0.2, sd1 = 1, sd2 = 3, loc = 0, seed = 123, alpha = 0.05, \n",
    "                prob = 0.05,\n",
    "                N = 200):\n",
    "    \"\"\"\n",
    "    Do experiments for N times and compute power and type 1 error with method in part(c)\n",
    "    \n",
    "    :param T: length of sequence\n",
    "    :param r: ratio of outliers\n",
    "    :param sd1: standard deviation of inliers\n",
    "    :param sd2: standard deviation of outliers\n",
    "    :param loc: mean of outliers\n",
    "    :param seed: a random seet\n",
    "    :param prob: probability of keeping an outlier\n",
    "    :param N: number of repeated trials\n",
    "    \"\"\"\n",
    "    np.random.seed(seed)\n",
    "    \n",
    "    results_in = np.zeros(N)\n",
    "    results_out = np.zeros(N)\n",
    "    for i in range(0, N):\n",
    "        #Generate a sequence\n",
    "        X, z = Gau_seq(T, r, sd1, sd2, loc)\n",
    "        \n",
    "        seq = np.array([X[0]]) #The data before time T that we do not drop\n",
    "        for t in range(1, T):\n",
    "            temp_seq = np.append(seq, X[t])\n",
    "            if not Test(temp_seq):\n",
    "                seq = temp_seq\n",
    "            elif np.random.uniform(0, 1, 1) < prob:\n",
    "                seq = temp_seq\n",
    "        \n",
    "        #X_{T+1} is an outlier\n",
    "        outlier = np.random.normal(loc, sd2, 1)\n",
    "        X_out = np.append(seq, outlier)\n",
    "        results_out[i] = Test(X_out)\n",
    " \n",
    "        \n",
    "        #X_{T+1} is an inlier\n",
    "        inlier = np.random.normal(0, sd1, 1)\n",
    "        X_in = np.append(seq, inlier)\n",
    "        results_in[i] = Test(X_in)\n",
    "    \n",
    "    return(sum(results_out)/N, sum(results_in)/N )"
   ]
  },
  {
   "cell_type": "code",
   "execution_count": 18,
   "id": "01dde3af",
   "metadata": {},
   "outputs": [],
   "source": [
    "probs = np.arange(0, 1.05, 0.05)\n",
    "Power = np.zeros(len(probs))\n",
    "TypeI = np.zeros(len(probs))"
   ]
  },
  {
   "cell_type": "code",
   "execution_count": 19,
   "id": "531b6bc0",
   "metadata": {},
   "outputs": [
    {
     "name": "stdout",
     "output_type": "stream",
     "text": [
      "4.761904761904762%\n",
      "9.523809523809524%\n",
      "14.285714285714285%\n",
      "19.047619047619047%\n",
      "23.809523809523807%\n",
      "28.57142857142857%\n",
      "33.33333333333333%\n",
      "38.095238095238095%\n",
      "42.857142857142854%\n",
      "47.61904761904761%\n",
      "52.38095238095239%\n",
      "57.14285714285714%\n",
      "61.904761904761905%\n",
      "66.66666666666666%\n",
      "71.42857142857143%\n",
      "76.19047619047619%\n",
      "80.95238095238095%\n",
      "85.71428571428571%\n",
      "90.47619047619048%\n",
      "95.23809523809523%\n",
      "100.0%\n"
     ]
    }
   ],
   "source": [
    "#Case when 20% of data are outliers\n",
    "for i in range(0, len(probs)):\n",
    "    Power[i], TypeI[i] = part_c_prob(T = 100, r = 0.2, sd1 = 1, sd2 = 3, \n",
    "                                loc = 0, N = 500, prob = probs[i], seed =123)\n",
    "    print( str((i + 1) / len(probs) * 100) + \"%\" )"
   ]
  },
  {
   "cell_type": "code",
   "execution_count": 20,
   "id": "74c542df",
   "metadata": {},
   "outputs": [
    {
     "data": {
      "image/png": "[encoded data removed]",
      "text/plain": [
       "<Figure size 432x288 with 1 Axes>"
      ]
     },
     "metadata": {
      "needs_background": "light"
     },
     "output_type": "display_data"
    }
   ],
   "source": [
    "plt.plot(probs, Power, label = \"Power\")\n",
    "plt.plot(probs, TypeI, label = \"Type I error\")\n",
    "plt.xlabel(\"Probability of keeping an outlier\")\n",
    "plt.legend();"
   ]
  },
  {
   "cell_type": "code",
   "execution_count": 21,
   "id": "56ee31ba",
   "metadata": {},
   "outputs": [
    {
     "name": "stdout",
     "output_type": "stream",
     "text": [
      "4.761904761904762%\n",
      "9.523809523809524%\n",
      "14.285714285714285%\n",
      "19.047619047619047%\n",
      "23.809523809523807%\n",
      "28.57142857142857%\n",
      "33.33333333333333%\n",
      "38.095238095238095%\n",
      "42.857142857142854%\n",
      "47.61904761904761%\n",
      "52.38095238095239%\n",
      "57.14285714285714%\n",
      "61.904761904761905%\n",
      "66.66666666666666%\n",
      "71.42857142857143%\n",
      "76.19047619047619%\n",
      "80.95238095238095%\n",
      "85.71428571428571%\n",
      "90.47619047619048%\n",
      "95.23809523809523%\n",
      "100.0%\n"
     ]
    }
   ],
   "source": [
    "#Case when  0% of data are outliers\n",
    "for i in range(0, len(probs)):\n",
    "    Power[i], TypeI[i] = part_c_prob(T = 100, r = 0, sd1 = 1, sd2 = 3, \n",
    "                                loc = 0, N = 500, prob = probs[i], seed =123)\n",
    "    print( str((i + 1) / len(probs) * 100) + \"%\" )"
   ]
  },
  {
   "cell_type": "code",
   "execution_count": 22,
   "id": "04e39709",
   "metadata": {},
   "outputs": [
    {
     "data": {
      "image/png": "[encoded data removed]",
      "text/plain": [
       "<Figure size 432x288 with 1 Axes>"
      ]
     },
     "metadata": {
      "needs_background": "light"
     },
     "output_type": "display_data"
    }
   ],
   "source": [
    "plt.plot(probs, Power, label = \"Power\")\n",
    "plt.plot(probs, TypeI, label = \"Type I error\")\n",
    "plt.xlabel(\"Probability of keeping an outlier\")\n",
    "plt.legend();"
   ]
  },
  {
   "cell_type": "markdown",
   "id": "07921b9f",
   "metadata": {},
   "source": [
    "## Modification 2:\n",
    "\n",
    "We can modify the Test procedure by a weighted average"
   ]
  },
  {
   "cell_type": "code",
   "execution_count": 23,
   "id": "72c3e46d",
   "metadata": {},
   "outputs": [],
   "source": [
    "def Test_weighted(seq, w, alpha = 0.05):\n",
    "    \"\"\"\n",
    "    Test if Y_T is an outlier. Under null hypothesis, we know \n",
    "        |Y_T| \\le Q_{1 - \\alpha}(|Y_1|, \\dots, Y_T)\n",
    "        \n",
    "    We return TURE is Y_T is an outlier\n",
    "    \"\"\"\n",
    "    \n",
    "    #Normalize weights\n",
    "    w = w/sum(w)\n",
    "    \n",
    "    abs_seq = abs(seq)\n",
    "    \n",
    "    comparison = abs_seq < abs_seq[-1]\n",
    "    \n",
    "    return( sum(w * comparison) > (1 - alpha))\n",
    "\n",
    "def part_c_weight(T = 100, r = 0.2, sd1 = 1, sd2 = 3, loc = 0, seed = 123, alpha = 0.05, \n",
    "                  w_out = 0.05, N = 200):\n",
    "    \"\"\"\n",
    "    Do experiments for N times and compute power and type 1 error with method in part(c)\n",
    "    \n",
    "    :param T: length of sequence\n",
    "    :param r: ratio of outliers\n",
    "    :param sd1: standard deviation of inliers\n",
    "    :param sd2: standard deviation of outliers\n",
    "    :param loc: mean of outliers\n",
    "    :param seed: a random seet\n",
    "    :param w_out: weight ouf outlier\n",
    "    :param N: number of repeated trials\n",
    "    \"\"\"\n",
    "    np.random.seed(seed)\n",
    "    \n",
    "    results_in = np.zeros(N)\n",
    "    results_out = np.zeros(N)\n",
    "    for i in range(0, N):\n",
    "        #Generate a sequence\n",
    "        X, z = Gau_seq(T , r, sd1, sd2, loc)\n",
    "        #Assign weights\n",
    "        w = np.ones(T + 1)\n",
    "        seq = np.array([X[0]]) #The data before time T that we do not drop\n",
    "        for t in range(1, T):\n",
    "            if Test_weighted(X[0:(t + 1)], w[0: (t + 1)]):\n",
    "                w[t] = w_out\n",
    "        \n",
    "        #X_{T+1} is an outlier\n",
    "        outlier = np.random.normal(loc, sd2, 1)\n",
    "        X_out = np.append(X, outlier)\n",
    "        results_out[i] = Test_weighted(X_out, w[0:(T+1)])\n",
    " \n",
    "        \n",
    "        #X_{T+1} is an inlier\n",
    "        inlier = np.random.normal(0, sd1, 1)\n",
    "        X_in = np.append(X, inlier)\n",
    "        results_in[i] = Test_weighted(X_in, w[0:(T+1)])\n",
    "\n",
    "    \n",
    "    return(sum(results_out)/N, sum(results_in)/N )"
   ]
  },
  {
   "cell_type": "code",
   "execution_count": 24,
   "id": "f4946463",
   "metadata": {},
   "outputs": [],
   "source": [
    "ws = np.arange(0, 1.05, 0.05)\n",
    "Power = np.zeros(len(ws))\n",
    "TypeI = np.zeros(len(ws))"
   ]
  },
  {
   "cell_type": "code",
   "execution_count": 25,
   "id": "da6c421e",
   "metadata": {},
   "outputs": [
    {
     "name": "stdout",
     "output_type": "stream",
     "text": [
      "4.761904761904762%\n",
      "9.523809523809524%\n",
      "14.285714285714285%\n",
      "19.047619047619047%\n",
      "23.809523809523807%\n",
      "28.57142857142857%\n",
      "33.33333333333333%\n",
      "38.095238095238095%\n",
      "42.857142857142854%\n",
      "47.61904761904761%\n",
      "52.38095238095239%\n",
      "57.14285714285714%\n",
      "61.904761904761905%\n",
      "66.66666666666666%\n",
      "71.42857142857143%\n",
      "76.19047619047619%\n",
      "80.95238095238095%\n",
      "85.71428571428571%\n",
      "90.47619047619048%\n",
      "95.23809523809523%\n",
      "100.0%\n"
     ]
    }
   ],
   "source": [
    "#Case when 20% of data are outliers\n",
    "for i in range(0, len(ws)):\n",
    "    Power[i], TypeI[i] = part_c_weight(T = 100, r = 0.2, sd1 = 1, sd2 = 3, \n",
    "                                loc = 0, N = 500, w_out = ws[i], seed =123)\n",
    "    print( str((i + 1) / len(ws) * 100) + \"%\" )"
   ]
  },
  {
   "cell_type": "code",
   "execution_count": 26,
   "id": "f515abb7",
   "metadata": {},
   "outputs": [
    {
     "data": {
      "image/png": "[encoded data removed]",
      "text/plain": [
       "<Figure size 432x288 with 1 Axes>"
      ]
     },
     "metadata": {
      "needs_background": "light"
     },
     "output_type": "display_data"
    }
   ],
   "source": [
    "plt.plot(ws, Power, label = \"Power\")\n",
    "plt.plot(ws, TypeI, label = \"Type I error\")\n",
    "plt.xlabel(\"Outlier weight\")\n",
    "plt.legend();"
   ]
  },
  {
   "cell_type": "code",
   "execution_count": 27,
   "id": "d981c24d",
   "metadata": {},
   "outputs": [
    {
     "name": "stdout",
     "output_type": "stream",
     "text": [
      "4.761904761904762%\n",
      "9.523809523809524%\n",
      "14.285714285714285%\n",
      "19.047619047619047%\n",
      "23.809523809523807%\n",
      "28.57142857142857%\n",
      "33.33333333333333%\n",
      "38.095238095238095%\n",
      "42.857142857142854%\n",
      "47.61904761904761%\n",
      "52.38095238095239%\n",
      "57.14285714285714%\n",
      "61.904761904761905%\n",
      "66.66666666666666%\n",
      "71.42857142857143%\n",
      "76.19047619047619%\n",
      "80.95238095238095%\n",
      "85.71428571428571%\n",
      "90.47619047619048%\n",
      "95.23809523809523%\n",
      "100.0%\n"
     ]
    }
   ],
   "source": [
    "#Case when  0% of data are outliers\n",
    "for i in range(0, len(ws)):\n",
    "    Power[i], TypeI[i] = part_c_weight(T = 100, r = 0, sd1 = 1, sd2 = 3, \n",
    "                                loc = 0, N = 500, w_out = ws[i], seed =123)\n",
    "    print( str((i + 1) / len(ws) * 100) + \"%\" )"
   ]
  },
  {
   "cell_type": "code",
   "execution_count": 28,
   "id": "0cb40d02",
   "metadata": {},
   "outputs": [
    {
     "data": {
      "image/png": "[encoded data removed]",
      "text/plain": [
       "<Figure size 432x288 with 1 Axes>"
      ]
     },
     "metadata": {
      "needs_background": "light"
     },
     "output_type": "display_data"
    }
   ],
   "source": [
    "plt.plot(ws, Power, label = \"Power\")\n",
    "plt.plot(ws, TypeI, label = \"Type I error\")\n",
    "plt.xlabel(\"Outlier weight\")\n",
    "plt.legend();"
   ]
  }
 ],
 "metadata": {
  "kernelspec": {
   "display_name": "Python 3 (ipykernel)",
   "language": "python",
   "name": "python3"
  },
  "language_info": {
   "codemirror_mode": {
    "name": "ipython",
    "version": 3
   },
   "file_extension": ".py",
   "mimetype": "text/x-python",
   "name": "python",
   "nbconvert_exporter": "python",
   "pygments_lexer": "ipython3",
   "version": "3.9.7"
  }
 },
 "nbformat": 4,
 "nbformat_minor": 5
}
