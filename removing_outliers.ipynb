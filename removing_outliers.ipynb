{
 "cells": [
  {
   "cell_type": "markdown",
   "id": "light-sensitivity",
   "metadata": {},
   "source": [
    "# Removing outliers in streaming conformal outlier detection\n",
    "\n",
    "To test for outliers with streaming conformal at time $t$, we test for exchangeability on of $((X_1, Y_1), \\dots, (X_t, Y_t))$\n",
    "\n",
    "However, if there are other outliers at $s < t$ we may reject when test-point $t$ is not an outlier, but nonetheless exchangeability is violated. Put simply, we are relying on the fact that the $t-1$ training observations are all inliers.\n",
    "\n",
    "What happens if we just exclude the observations that were considered outliers?"
   ]
  },
  {
   "cell_type": "code",
   "execution_count": 133,
   "id": "historical-auckland",
   "metadata": {},
   "outputs": [
    {
     "data": {
      "text/plain": [
       "array([0.01, 0.11, 0.36, 0.89, 0.41, 0.11, 0.04, 0.01])"
      ]
     },
     "execution_count": 133,
     "metadata": {},
     "output_type": "execute_result"
    }
   ],
   "source": [
    "def score(X, y, mu):\n",
    "    \"\"\"\n",
    "    X: n x p features\n",
    "    y: n responses\n",
    "    mu: function mu(x_i) = E[Y| X = x_i]\n",
    "    \"\"\"\n",
    "    return np.abs(mu(X) - y)\n",
    "\n",
    "def compute_conformal_p(s):\n",
    "    \"\"\"\n",
    "    given a vector of scores s, compute the conformal p value for the last score\n",
    "    \n",
    "    the conformal p-value is the proprotion of scores smaller than the test point\n",
    "    so if the test point score is large, the conformal p-value is small\n",
    "    \"\"\"\n",
    "    return np.sum(s >= s[-1])/s.size\n",
    "\n",
    "\n",
    "def linear_scoring_coef(X, y):\n",
    "    \"\"\"\n",
    "    generate sequences (a1,..., an), (b1, ... ,bn)\n",
    "    so that r_i(y) = |a_i + b_i y|\n",
    "    \n",
    "    we can use this to compute full conformal predictions sets for least squares\n",
    "    \"\"\"\n",
    "    X = np.random.normal(size=(100, 10))\n",
    "    y = np.random.normal(size=100)\n",
    "\n",
    "    H = X @ np.linalg.solve(X.T @ X, X.T)\n",
    "    A = np.eye(H.shape[0]) - H\n",
    "    y0 = y\n",
    "    y0[-1] = 0\n",
    "\n",
    "    a = A @ y0\n",
    "    b = A[:,-1]\n",
    "    \n",
    "    return dict(a=a, b=b)\n",
    "\n",
    "def grid_conformal_p(X, y, y_grid):\n",
    "    \"\"\"\n",
    "    compute conformal p-values for a grid of $y_n$ values\n",
    "    \"\"\"\n",
    "    coefs = linear_scoring_coef(X, y)\n",
    "    p_values = np.array([\n",
    "        compute_conformal_p(np.abs(coefs['a'] + coefs['b'] * z))\n",
    "        for z in  y_grid\n",
    "    ])\n",
    "    return p_values\n",
    "\n",
    "\n",
    "grid_conformal_p(X, y, [-3, -2, -1, 0, 1, 2, 3, 4,])"
   ]
  },
  {
   "cell_type": "markdown",
   "id": "square-stewart",
   "metadata": {},
   "source": [
    "A quick simulation can verify that for exchangeable data, the streaming $p$-values are unifrom and independent (we observe low autocorrelation among $p$-values."
   ]
  },
  {
   "cell_type": "code",
   "execution_count": 142,
   "id": "lasting-original",
   "metadata": {},
   "outputs": [
    {
     "data": {
      "text/plain": [
       "array([[1.        , 0.00139461],\n",
       "       [0.00139461, 1.        ]])"
      ]
     },
     "execution_count": 142,
     "metadata": {},
     "output_type": "execute_result"
    },
    {
     "data": {
      "image/png": "[encoded data removed]",
      "text/plain": [
       "<Figure size 640x480 with 1 Axes>"
      ]
     },
     "metadata": {},
     "output_type": "display_data"
    }
   ],
   "source": [
    "t = 10000\n",
    "X = np.random.uniform(size=t)\n",
    "y = np.sin(X) + np.random.normal(size=t)\n",
    "\n",
    "\n",
    "mu_oracle = lambda x: np.sin(x)\n",
    "\n",
    "scores = score(X, y, mu_oracle)\n",
    "stream_p = np.array([compute_conformal_p(scores[:i]) for i in np.arange(1, t)])\n",
    "plt.hist(stream_p)\n",
    "np.corrcoef(stream_p[:-1], stream_p[1:])"
   ]
  },
  {
   "cell_type": "markdown",
   "id": "legal-floating",
   "metadata": {},
   "source": [
    "Now let's see what happens if we exclude samples that are detected as outliers. What we expect to see is that"
   ]
  },
  {
   "cell_type": "code",
   "execution_count": 139,
   "id": "chronic-circumstances",
   "metadata": {},
   "outputs": [
    {
     "data": {
      "text/plain": [
       "[1, 2]"
      ]
     },
     "execution_count": 139,
     "metadata": {},
     "output_type": "execute_result"
    }
   ],
   "source": [
    "a = [1]\n",
    "a.append(2)\n",
    "a"
   ]
  },
  {
   "cell_type": "code",
   "execution_count": 149,
   "id": "lightweight-eligibility",
   "metadata": {},
   "outputs": [],
   "source": [
    "def masked_conformal_p(s, mask):\n",
    "    \"\"\"\n",
    "    compute conformal p-value for s[mask]\n",
    "    mask is a vector of booleans for which observations are included\n",
    "    \"\"\"\n",
    "    return compute_conformal_p(s, mask)\n",
    "\n",
    "def threshold_conformal_p(s, alpha=0.05):\n",
    "    T = s.size\n",
    "    mask = np.array([False for _ in range(T)])\n",
    "    mask[0] = True\n",
    "    p = []\n",
    "    for t in range(1, T):\n",
    "        # include this observation in this run\n",
    "        mask[t] = True\n",
    "        \n",
    "        # compute a masked conformal p-value\n",
    "        p_t = compute_conformal_p(s[mask])\n",
    "        p.append(p_t)\n",
    "        \n",
    "        # for future runs, mark if t was an outlier\n",
    "        mask[t] = p_t >= alpha\n",
    "        \n",
    "    return dict(p=p, mask=mask)\n",
    "\n",
    "t = 10000\n",
    "X = np.random.uniform(size=t)\n",
    "y = np.sin(X) + np.random.normal(size=t)\n",
    "\n",
    "mu_oracle = lambda x: np.sin(x)\n",
    "\n",
    "scores = score(X, y, mu_oracle)\n",
    "res = threshold_conformal_p(scores)"
   ]
  },
  {
   "cell_type": "markdown",
   "id": "looking-intellectual",
   "metadata": {},
   "source": [
    "Dropping outliers does not work because you will also drop \"unusual\" observations from the null distribution. Over time this will have the effect of truncating the tails of the null distribution. Run for long enough we will also cut of the tails of the truncated distribution, and so on until we reject almost all observations.\n"
   ]
  },
  {
   "cell_type": "code",
   "execution_count": 175,
   "id": "pleasant-atlas",
   "metadata": {},
   "outputs": [
    {
     "data": {
      "text/plain": [
       "[<matplotlib.lines.Line2D at 0x7f7f165e14c0>]"
      ]
     },
     "execution_count": 175,
     "metadata": {},
     "output_type": "execute_result"
    },
    {
     "data": {
      "image/png": "[encoded data removed]",
      "text/plain": [
       "<Figure size 640x480 with 1 Axes>"
      ]
     },
     "metadata": {},
     "output_type": "display_data"
    }
   ],
   "source": [
    "# as we go along our data stream we start to reject at increasingly higher rate\n",
    "# but all the data are exchangeable.\n",
    "\n",
    "t = 10000\n",
    "X = np.random.uniform(size=t)\n",
    "y = np.sin(X) + np.random.normal(size=t)\n",
    "scores = score(X, y, mu_oracle)\n",
    "\n",
    "res = threshold_conformal_p(scores, 0.5)\n",
    "plt.plot(np.cumsum(res['mask']))"
   ]
  },
  {
   "cell_type": "code",
   "execution_count": 176,
   "id": "external-status",
   "metadata": {},
   "outputs": [
    {
     "data": {
      "text/plain": [
       "(array([9021.,  383.,  173.,   91.,   63.,   57.,   47.,   52.,   53.,\n",
       "          59.]),\n",
       " array([0.00364964, 0.10328467, 0.20291971, 0.30255474, 0.40218978,\n",
       "        0.50182482, 0.60145985, 0.70109489, 0.80072993, 0.90036496,\n",
       "        1.        ]),\n",
       " <BarContainer object of 10 artists>)"
      ]
     },
     "execution_count": 176,
     "metadata": {},
     "output_type": "execute_result"
    },
    {
     "data": {
      "image/png": "[encoded data removed]",
      "text/plain": [
       "<Figure size 640x480 with 1 Axes>"
      ]
     },
     "metadata": {},
     "output_type": "display_data"
    }
   ],
   "source": [
    "plt.hist(res['p'])"
   ]
  },
  {
   "cell_type": "code",
   "execution_count": 223,
   "id": "compressed-creek",
   "metadata": {},
   "outputs": [
    {
     "data": {
      "text/plain": [
       "(array([5273., 1312.,  742.,  641.,  483.,  390.,  336.,  288.,  251.,\n",
       "         284.]),\n",
       " array([4.69704086e-04, 1.00422734e-01, 2.00375763e-01, 3.00328793e-01,\n",
       "        4.00281822e-01, 5.00234852e-01, 6.00187882e-01, 7.00140911e-01,\n",
       "        8.00093941e-01, 9.00046970e-01, 1.00000000e+00]),\n",
       " <BarContainer object of 10 artists>)"
      ]
     },
     "execution_count": 223,
     "metadata": {},
     "output_type": "execute_result"
    },
    {
     "data": {
      "image/png": "[encoded data removed]",
      "text/plain": [
       "<Figure size 640x480 with 1 Axes>"
      ]
     },
     "metadata": {},
     "output_type": "display_data"
    }
   ],
   "source": [
    "def randomized_conformal_p(s, alpha=0.05):\n",
    "    \"\"\"\n",
    "    at each step t , include the observation i = 1... t-1\n",
    "    with probability p_i where p_i is the conformal p-value\n",
    "    \"\"\"\n",
    "    T = s.size\n",
    "    p = np.ones(T)\n",
    "    for t in range(1, T):\n",
    "        # random mask\n",
    "        mask = p[:t] >= np.random.uniform(size=t)\n",
    "        mask[t-1] = True\n",
    "\n",
    "        # compute a masked conformal p-value\n",
    "        p[t-1] = compute_conformal_p(s[:t][mask])\n",
    "    return p\n",
    "\n",
    "res = randomized_conformal_p(scores, 0.5)\n",
    "plt.hist(res)"
   ]
  },
  {
   "cell_type": "markdown",
   "id": "eleven-privacy",
   "metadata": {},
   "source": [
    "The appropriate rate at which to reject observations would be the local true discovery rate. This takes into account the proportion of outlier observations in the data stream, and the change in distribution of the outlier samples. Both of these quantities are typically unavailable in practice. But first let's see what happens with the oracle case."
   ]
  },
  {
   "cell_type": "code",
   "execution_count": 262,
   "id": "academic-repair",
   "metadata": {},
   "outputs": [
    {
     "data": {
      "image/png": "[encoded data removed]",
      "text/plain": [
       "<Figure size 640x480 with 1 Axes>"
      ]
     },
     "metadata": {},
     "output_type": "display_data"
    }
   ],
   "source": [
    "def compute_tdr(x, y):\n",
    "    f0 = norm.pdf(y-np.sin(x), scale=1)\n",
    "    f1 = norm.pdf(y-np.sin(x), scale=5)\n",
    "    tdr = pi*f1/(pi*f1 + (1-pi)*f0)\n",
    "    return tdr\n",
    "\n",
    "\n",
    "def tdr_randomized_conformal_p(s, tdr, alpha=0.05):\n",
    "    \"\"\"\n",
    "    at each step t , include the observation i = 1... t-1\n",
    "    with probability p_i where p_i is the conformal p-value\n",
    "    \"\"\"\n",
    "    T = s.size\n",
    "    p = np.ones(T)\n",
    "    for t in range(1, T):\n",
    "        # random mask\n",
    "        mask = tdr[:t] < np.random.uniform(size=t)\n",
    "        mask[t-1] = True\n",
    "\n",
    "        # compute a masked conformal p-value\n",
    "        p[t-1] = compute_conformal_p(s[:t][mask])\n",
    "    return p\n",
    "\n",
    "t = 10000\n",
    "pi = 0.1\n",
    "\n",
    "X = np.random.uniform(size=t)\n",
    "z = np.random.binomial(1, pi, size=t)\n",
    "\n",
    "y = np.sin(X) + np.random.normal(size=t)*(1-z) + 5*np.random.normal(size=t)*z\n",
    "scores = score(X, y, mu_oracle)\n",
    "tdr = compute_tdr(X, y)\n",
    "\n",
    "res = tdr_randomized_conformal_p(scores, tdr)\n",
    "plt.hist(res[z==0]);\n",
    "plt.hist(res[z==1]);"
   ]
  },
  {
   "cell_type": "markdown",
   "id": "normal-bones",
   "metadata": {},
   "source": [
    "Estimating $tdr$ is hard. Perhaps and easier quantity to estimate is FDR among the set of rejections. For a given threshold $\\alpha$ we can as what the proprotion of false discoveries (inliers detected as outliers), and then include a random fraction of these discoveries in future computations."
   ]
  },
  {
   "cell_type": "code",
   "execution_count": 328,
   "id": "parental-revelation",
   "metadata": {},
   "outputs": [
    {
     "data": {
      "text/plain": [
       "(array([65.,  4.,  3.,  5.,  5.,  0.,  1.,  4.,  6.,  7.]),\n",
       " array([0.        , 0.08179817, 0.16359633, 0.2453945 , 0.32719266,\n",
       "        0.40899083, 0.490789  , 0.57258716, 0.65438533, 0.73618349,\n",
       "        0.81798166]),\n",
       " <BarContainer object of 10 artists>)"
      ]
     },
     "execution_count": 328,
     "metadata": {},
     "output_type": "execute_result"
    },
    {
     "data": {
      "image/png": "[encoded data removed]",
      "text/plain": [
       "<Figure size 640x480 with 1 Axes>"
      ]
     },
     "metadata": {},
     "output_type": "display_data"
    }
   ],
   "source": [
    "def qvalue(pvals, lamb=0.5):\n",
    "    \"\"\"\n",
    "    Simplified computation of p-value, estimate pi0_hat from the right tail of p-values\n",
    "    \"\"\"\n",
    "    m = pvals.size\n",
    "    pi0_hat = np.sum(pvals > lamb)/ (m * (1-lamb))\n",
    "    sort_idx = np.argsort(pvals)\n",
    "\n",
    "    qvals = np.zeros(m)\n",
    "    qvals[sort_idx[-1]] = pi0_hat * pvals[sort_idx[-1]]\n",
    "    qvals[sort_idx[-1]]\n",
    "\n",
    "    for i in range(2, m):\n",
    "        qvals[sort_idx[-i]] = min(qvals[sort_idx[-(i-1)]], pi0_hat*m*pvals[sort_idx[-i]]/(m-i))\n",
    "    return qvals  \n",
    "    \n",
    "lamb = 0.5\n",
    "pvals = np.random.uniform(size=1000)\n",
    "pvals[:100] = np.random.beta(0.1, 2, size=100)\n",
    "\n",
    "qvalue(pvals, 0.5)\n",
    "plt.hist(qvals)\n",
    "plt.hist(qvals[:100])"
   ]
  },
  {
   "cell_type": "code",
   "execution_count": 349,
   "id": "completed-kenya",
   "metadata": {},
   "outputs": [
    {
     "data": {
      "image/png": "[encoded data removed]",
      "text/plain": [
       "<Figure size 640x480 with 1 Axes>"
      ]
     },
     "metadata": {},
     "output_type": "display_data"
    }
   ],
   "source": [
    "def FDR_randomized_conformal_p(s, alpha=0.05):\n",
    "    \"\"\"\n",
    "    at each step t , include the observation i = 1... t-1\n",
    "    with probability p_i where p_i is the conformal p-value\n",
    "    \"\"\"\n",
    "    T = s.size\n",
    "    p = np.ones(T)\n",
    "    for t in range(1, T):\n",
    "        # compute q values for old p-values\n",
    "        if(t > 5):\n",
    "            qvals = qvalue(p[:t-1])\n",
    "            reject_set = qvals < alpha\n",
    "            \n",
    "            # include rejections w/probability alpha\n",
    "            mask = np.ones(t)\n",
    "            mask[np.where(reject_set)[0]] = np.random.binomial(1, alpha, size=reject_set.sum())\n",
    "            mask = mask == 1\n",
    "\n",
    "            # compute a masked conformal p-value\n",
    "            p[t-1] = compute_conformal_p(s[:t][mask])\n",
    "        else:\n",
    "            p[t-1] = compute_conformal_p(s[:t])\n",
    "    return p\n",
    "\n",
    "t = 10000\n",
    "pi = 0.1\n",
    "\n",
    "X = np.random.uniform(size=t)\n",
    "z = np.random.binomial(1, pi, size=t)\n",
    "\n",
    "y = np.sin(X) + np.random.normal(size=t)*(1-z) + 5*np.random.normal(size=t)*z\n",
    "scores = score(X, y, mu_oracle)\n",
    "tdr = compute_tdr(X, y)\n",
    "\n",
    "res = FDR_randomized_conformal_p(scores, 0.05)\n",
    "plt.hist(res[z==0]);\n",
    "plt.hist(res[z==1]);"
   ]
  }
 ],
 "metadata": {
  "kernelspec": {
   "display_name": "Python 3 (ipykernel)",
   "language": "python",
   "name": "python3"
  },
  "language_info": {
   "codemirror_mode": {
    "name": "ipython",
    "version": 3
   },
   "file_extension": ".py",
   "mimetype": "text/x-python",
   "name": "python",
   "nbconvert_exporter": "python",
   "pygments_lexer": "ipython3",
   "version": "3.8.3"
  }
 },
 "nbformat": 4,
 "nbformat_minor": 5
}
