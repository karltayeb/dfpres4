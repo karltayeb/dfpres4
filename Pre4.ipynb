{
 "cells": [
  {
   "cell_type": "markdown",
   "id": "18f6be50",
   "metadata": {},
   "source": [
    "# Helper functions"
   ]
  },
  {
   "cell_type": "code",
   "execution_count": 1,
   "id": "0eea616d",
   "metadata": {},
   "outputs": [],
   "source": [
    "import numpy as np\n",
    "import matplotlib.pyplot as plt\n",
    "\n",
    "def Gau_seq(T, r, sd1, sd2, loc = 0):\n",
    "    \"\"\"\n",
    "    Generate a sequence of Gaussian variables of length T.\n",
    "    \n",
    "    :param T: length of sequence\n",
    "    :param r: ratio of outliers\n",
    "    :param sd1: standard deviation of inliers\n",
    "    :param sd2: standard deviation of outliers\n",
    "    :param loc: mean of outliers\n",
    "    \n",
    "    :return: a numpy vector of data\n",
    "    \n",
    "    \"\"\"\n",
    "    #Indicators with z = 1 for outliers\n",
    "    z = np.random.uniform(0, 1, T) < r\n",
    "    \n",
    "    #Generate the sequence\n",
    "    seq = np.random.normal(0, sd1, T) * (1 - z) + np.random.normal(loc, sd2, T) * z\n",
    "    \n",
    "    return(seq, z)\n",
    "            \n",
    "    "
   ]
  },
  {
   "cell_type": "code",
   "execution_count": 2,
   "id": "2db0d3e7",
   "metadata": {},
   "outputs": [],
   "source": [
    "def Test(seq, alpha = 0.05):\n",
    "    \"\"\"\n",
    "    Test if Y_T is an outlier. Under null hypothesis, we know \n",
    "        |Y_T| \\le Q_{1 - \\alpha}(|Y_1|, \\dots, Y_T)\n",
    "        \n",
    "    We return TURE is Y_T is an outlier\n",
    "    \"\"\"\n",
    "    abs_seq = abs(seq)\n",
    "    \n",
    "    comparison = abs_seq < abs_seq[-1]\n",
    "    \n",
    "    return( sum(comparison) > (1 - alpha) * len(seq) )"
   ]
  },
  {
   "cell_type": "markdown",
   "id": "17e7bb00",
   "metadata": {},
   "source": [
    "# Part(a)\n",
    "\n",
    "Does the presence of outlier(s) before time $t$, tend to cause us to be more conservative or less conservative for detecting an outlier at time $t$, in practice?"
   ]
  },
  {
   "cell_type": "code",
   "execution_count": 3,
   "id": "90d58d0f",
   "metadata": {},
   "outputs": [],
   "source": [
    "def part_a(T = 100, r = 0.2, sd1 = 1, sd2 = 3, loc = 0, seed = 123, N = 100):\n",
    "    \"\"\"\n",
    "    Do experiments for N times and to the type 1 and type 2 error of our testing under\n",
    "    the presence of outliers.\n",
    "    \n",
    "    :param T: length of sequence\n",
    "    :param r: ratio of outliers\n",
    "    :param sd1: standard deviation of inliers\n",
    "    :param sd2: standard deviation of outliers\n",
    "    :param loc: mean of outliers\n",
    "    :param seed: a random seet\n",
    "    :param N: number of repeated trials\n",
    "    \"\"\"\n",
    "    np.random.seed(seed)\n",
    "    \n",
    "    results_out = np.zeros(N)\n",
    "    results_in = np.zeros(N)\n",
    "    \n",
    "    for i in range(0, N):\n",
    "        #Generate a sequence\n",
    "        X, z = Gau_seq(T, r, sd1, sd2, loc)\n",
    "        #Add an outlier\n",
    "        outlier = np.random.normal(loc, sd2, 1)\n",
    "        X = np.append(X, outlier)\n",
    "        results_out[i] = Test(X)\n",
    "    \n",
    "    for i in range(0, N):\n",
    "        #Generate a sequence\n",
    "        X, z = Gau_seq(T, r, sd1, sd2, loc)\n",
    "        #Add an inlier\n",
    "        inlier = np.random.normal(0, sd1, 1)\n",
    "        X = np.append(X, inlier)\n",
    "        results_in[i] = Test(X)\n",
    "    \n",
    "    return(sum(results_out)/N, sum(results_in)/N )\n",
    "    \n",
    "    "
   ]
  },
  {
   "cell_type": "code",
   "execution_count": 4,
   "id": "7e45fcf1",
   "metadata": {},
   "outputs": [],
   "source": [
    "#Set different sd2 for outliers\n",
    "sd2 = np.arange(0, 5.1, 0.1)\n",
    "Power = np.zeros(len(sd2))\n",
    "TypeI = np.zeros(len(sd2))"
   ]
  },
  {
   "cell_type": "code",
   "execution_count": 5,
   "id": "65552a89",
   "metadata": {},
   "outputs": [
    {
     "name": "stdout",
     "output_type": "stream",
     "text": [
      "0.0%\n",
      "9.803921568627452%\n",
      "19.607843137254903%\n",
      "29.411764705882355%\n",
      "39.21568627450981%\n",
      "49.01960784313725%\n",
      "58.82352941176471%\n",
      "68.62745098039215%\n",
      "78.43137254901961%\n",
      "88.23529411764706%\n",
      "98.0392156862745%\n"
     ]
    }
   ],
   "source": [
    "for i in range(0, len(sd2)):\n",
    "    Power[i], TypeI[i] = part_a(T = 100, r = 0.2, sd1 = 1, sd2 = sd2[i], \n",
    "                                loc = 0, N = 100, seed =123)\n",
    "    \n",
    "    if i % 5 == 0:\n",
    "        print( str(i / len(sd2) * 100) + \"%\" )"
   ]
  },
  {
   "cell_type": "code",
   "execution_count": 6,
   "id": "664f8b9f",
   "metadata": {},
   "outputs": [
    {
     "data": {
      "image/png": "[encoded data removed]",
      "text/plain": [
       "<Figure size 432x288 with 1 Axes>"
      ]
     },
     "metadata": {
      "needs_background": "light"
     },
     "output_type": "display_data"
    }
   ],
   "source": [
    "plt.plot(sd2, Power, label = \"Power\")\n",
    "plt.plot(sd2, TypeI, label = \"Type I error\")\n",
    "plt.xlabel(\"sd of outlier\")\n",
    "\n",
    "plt.legend();"
   ]
  },
  {
   "cell_type": "markdown",
   "id": "caf5255d",
   "metadata": {},
   "source": [
    "# Part(b)\n",
    "\n",
    "Are there ways to modify the procedure (i.e., the method of applying conformal prediction in a streaming way), to reduce any problems you've identified? For example, what if we try dropping any outliers -- say, if we reject at time ii and flag ($X_i$,$Y_i$) as an outlier, can we then drop this data point for future tests, like at time $i+1$ we compare ($X_{i+1},Y_{i+1}$)\n",
    " against $(X_1,Y_1),...,(X_{i-1},Y_{i-1})$? Would this \"dropping\" modification fix the problem, or might it introduce new issues?\n",
    "\n"
   ]
  },
  {
   "cell_type": "markdown",
   "id": "aff9d869",
   "metadata": {},
   "source": [
    "Suppose we want to test if $X_{T+1}$ is an outlier. We implememnt this method and check its average performance under two scenarios:\n",
    "1. No outliers\n",
    "2. 20% of the data are outliers"
   ]
  },
  {
   "cell_type": "code",
   "execution_count": 7,
   "id": "6a3a8959",
   "metadata": {},
   "outputs": [],
   "source": [
    "def part_b(T = 100, r = 0.2, sd1 = 1, sd2 = 3, loc = 0, seed = 123, N = 100):\n",
    "    \"\"\"\n",
    "    Do experiments for N times and to the type 1 and type 2 error of our testing under\n",
    "    the presence of outliers.\n",
    "    \n",
    "    :param T: length of sequence\n",
    "    :param r: ratio of outliers\n",
    "    :param sd1: standard deviation of inliers\n",
    "    :param sd2: standard deviation of outliers\n",
    "    :param loc: mean of outliers\n",
    "    :param seed: a random seet\n",
    "    :param N: number of repeated trials\n",
    "    \"\"\"\n",
    "    np.random.seed(seed)\n",
    "    \n",
    "    results_in = np.zeros(N)\n",
    "    results_out = np.zeros(N)\n",
    "    for i in range(0, N):\n",
    "        #Generate a sequence\n",
    "        X, z = Gau_seq(T + 1, r, sd1, sd2, loc)\n",
    "        \n",
    "        seq = np.array([X[0]]) #The data before time T that we do not drop\n",
    "        for t in range(0, T):\n",
    "            temp_seq = np.append(seq, X[t])\n",
    "            if not Test(temp_seq):\n",
    "                seq = temp_seq\n",
    "        #Add an outlier\n",
    "        outlier = np.random.normal(loc, sd2, 1)\n",
    "        seq = np.append(seq, outlier)\n",
    "        results_out[i] = Test(seq)\n",
    "        \n",
    "    for i in range(0, N):\n",
    "        #Generate a sequence\n",
    "        X, z = Gau_seq(T + 1, r, sd1, sd2, loc)\n",
    "        \n",
    "        seq = np.array([X[0]]) #The data before time T that we do not drop\n",
    "        for t in range(0, T):\n",
    "            temp_seq = np.append(seq, X[t])\n",
    "            if not Test(temp_seq):\n",
    "                seq = temp_seq\n",
    "        #Add an inlier\n",
    "        inlier = np.random.normal(0, sd1, 1)\n",
    "        seq = np.append(seq, inlier)\n",
    "        results_in[i] = Test(seq)\n",
    "\n",
    "    \n",
    "    return(sum(results_out)/N, sum(results_in)/N )"
   ]
  },
  {
   "cell_type": "code",
   "execution_count": 8,
   "id": "8121f1e5",
   "metadata": {},
   "outputs": [],
   "source": [
    "Ts = np.arange(50, 550, 50)\n",
    "Power = np.zeros(len(Ts))\n",
    "TypeI = np.zeros(len(Ts))"
   ]
  },
  {
   "cell_type": "code",
   "execution_count": 9,
   "id": "ff445d6b",
   "metadata": {},
   "outputs": [
    {
     "name": "stdout",
     "output_type": "stream",
     "text": [
      "0.0%\n",
      "10.0%\n",
      "20.0%\n",
      "30.0%\n",
      "40.0%\n",
      "50.0%\n",
      "60.0%\n",
      "70.0%\n",
      "80.0%\n",
      "90.0%\n"
     ]
    }
   ],
   "source": [
    "#Case when 20% of data are outliers\n",
    "for i in range(0, len(Ts)):\n",
    "    Power[i], TypeI[i] = part_b(T = Ts[i], r = 0.2, sd1 = 1, sd2 = 3, \n",
    "                                loc = 0, N = 100, seed =123)\n",
    "    print( str(i / len(Ts) * 100) + \"%\" )"
   ]
  },
  {
   "cell_type": "code",
   "execution_count": 10,
   "id": "82a8fe40",
   "metadata": {},
   "outputs": [
    {
     "data": {
      "image/png": "[encoded data removed]",
      "text/plain": [
       "<Figure size 432x288 with 1 Axes>"
      ]
     },
     "metadata": {
      "needs_background": "light"
     },
     "output_type": "display_data"
    }
   ],
   "source": [
    "plt.plot(Ts, Power, label = \"Power\")\n",
    "plt.plot(Ts, TypeI, label = \"Type I error\")\n",
    "plt.xlabel(\"sd of outlier\")\n",
    "plt.legend();\n"
   ]
  },
  {
   "cell_type": "code",
   "execution_count": 11,
   "id": "48edbf9b",
   "metadata": {},
   "outputs": [
    {
     "name": "stdout",
     "output_type": "stream",
     "text": [
      "0.0%\n",
      "10.0%\n",
      "20.0%\n",
      "30.0%\n",
      "40.0%\n",
      "50.0%\n",
      "60.0%\n",
      "70.0%\n",
      "80.0%\n",
      "90.0%\n"
     ]
    }
   ],
   "source": [
    "#Also look at method without dropping data\n",
    "for i in range(0, len(Ts)):\n",
    "    Power[i], TypeI[i] = part_a(T = Ts[i], r = 0.2, sd1 = 1, sd2 = 3, \n",
    "                                loc = 0, N = 100, seed =123)\n",
    "    print( str(i / len(Ts) * 100) + \"%\" )"
   ]
  },
  {
   "cell_type": "code",
   "execution_count": 12,
   "id": "37cc2374",
   "metadata": {},
   "outputs": [
    {
     "data": {
      "text/plain": [
       "Text(0.5, 0, 'sd of outlier')"
      ]
     },
     "execution_count": 12,
     "metadata": {},
     "output_type": "execute_result"
    },
    {
     "data": {
      "image/png": "[encoded data removed]",
      "text/plain": [
       "<Figure size 432x288 with 1 Axes>"
      ]
     },
     "metadata": {
      "needs_background": "light"
     },
     "output_type": "display_data"
    }
   ],
   "source": [
    "plt.plot(Ts, Power, label = \"Power\")\n",
    "plt.plot(Ts, TypeI,  label = \"Type I error\")\n",
    "plt.xlabel(\"sd of outlier\")"
   ]
  },
  {
   "cell_type": "code",
   "execution_count": null,
   "id": "b0c8c511",
   "metadata": {},
   "outputs": [
    {
     "name": "stdout",
     "output_type": "stream",
     "text": [
      "0.0%\n",
      "10.0%\n",
      "20.0%\n",
      "30.0%\n",
      "40.0%\n",
      "50.0%\n",
      "60.0%\n",
      "70.0%\n",
      "80.0%\n"
     ]
    }
   ],
   "source": [
    "#Case when  0% of data are outliers\n",
    "for i in range(0, len(Ts)):\n",
    "    Power[i], TypeI[i] = part_b(T = Ts[i], r = 0, sd1 = 1, sd2 = 3, \n",
    "                                loc = 0, N = 100, seed =123)\n",
    "    print( str(i / len(Ts) * 100) + \"%\" )"
   ]
  },
  {
   "cell_type": "code",
   "execution_count": null,
   "id": "d96e2618",
   "metadata": {},
   "outputs": [],
   "source": [
    "plt.plot(Ts, Power, label = \"Power\")\n",
    "plt.plot(Ts, TypeI, label = \"Type I error\")\n",
    "plt.xlabel(\"sd of outlier\")\n",
    "plt.legend();\n"
   ]
  },
  {
   "cell_type": "code",
   "execution_count": null,
   "id": "e46a192f",
   "metadata": {},
   "outputs": [],
   "source": [
    "#Also look at method without dropping data\n",
    "for i in range(0, len(Ts)):\n",
    "    Power[i], TypeI[i] = part_a(T = Ts[i], r = 0, sd1 = 1, sd2 = 3, \n",
    "                                loc = 0, N = 100, seed =123)\n",
    "    print( str(i / len(Ts) * 100) + \"%\" )"
   ]
  },
  {
   "cell_type": "code",
   "execution_count": null,
   "id": "5bc4d4d3",
   "metadata": {},
   "outputs": [],
   "source": [
    "plt.plot(Ts, Power, label = \"Power\")\n",
    "plt.plot(Ts, TypeI, label = \"Type I error\")\n",
    "plt.legend();\n"
   ]
  },
  {
   "cell_type": "code",
   "execution_count": null,
   "id": "1c2b62c3",
   "metadata": {},
   "outputs": [],
   "source": []
  }
 ],
 "metadata": {
  "kernelspec": {
   "display_name": "Python 3 (ipykernel)",
   "language": "python",
   "name": "python3"
  },
  "language_info": {
   "codemirror_mode": {
    "name": "ipython",
    "version": 3
   },
   "file_extension": ".py",
   "mimetype": "text/x-python",
   "name": "python",
   "nbconvert_exporter": "python",
   "pygments_lexer": "ipython3",
   "version": "3.9.7"
  }
 },
 "nbformat": 4,
 "nbformat_minor": 5
}
