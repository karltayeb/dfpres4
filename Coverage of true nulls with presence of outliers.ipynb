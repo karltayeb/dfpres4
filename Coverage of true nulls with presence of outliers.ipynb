{
 "cells": [
  {
   "cell_type": "markdown",
   "id": "ecf1a2b7",
   "metadata": {},
   "source": [
    "### Consider the streaming setting. At this point, we focus on the coverage of the true nulls. (Since we haven't discussed about how to deal with the outliers detected at time t).  We are under the naive setting where the outlier detected at time t (i.e., with p value < 5%) is not removed for future predictions. For simplicity, suppose we have a Gaussian sequence $Y = 0 + N(0,1)$ with known mean = 0. The score will then be $|Y_t|$. The outliers drawn i.i.d. from $N(2, 1)$\n",
    "\n",
    "##### * The codes are modified from Zixuan's notebook\n",
    "#### a) Fixed number of outliers. Toy example: We have 100 outliers at time $0, \\cdots, 99$. What is the coverage (average over  10 streams) at time t? "
   ]
  },
  {
   "cell_type": "code",
   "execution_count": 96,
   "id": "a137794c",
   "metadata": {},
   "outputs": [],
   "source": [
    "import numpy as np\n",
    "import matplotlib.pyplot as plt\n",
    "\n",
    "def coverage_at_t_fixed(t, mu = 2, alpha = 0.05): ## t>= 100\n",
    "    seq = np.concatenate((np.random.normal(mu, 1, 100), np.random.normal(0, 1, t-100)))\n",
    "    result = []\n",
    "    for i in range(100, t+1):\n",
    "        abs_seq =  abs(seq[0:i+1])\n",
    "        comparison = abs_seq < abs_seq[-1]\n",
    "        result.append(sum(comparison) <= (1 - alpha) * len(abs_seq))\n",
    "    return sum(result)/(t-99)"
   ]
  },
  {
   "cell_type": "code",
   "execution_count": 95,
   "id": "2a4e1d4c",
   "metadata": {},
   "outputs": [
    {
     "ename": "KeyboardInterrupt",
     "evalue": "",
     "output_type": "error",
     "traceback": [
      "\u001b[1;31m---------------------------------------------------------------------------\u001b[0m",
      "\u001b[1;31mKeyboardInterrupt\u001b[0m                         Traceback (most recent call last)",
      "\u001b[1;32m<ipython-input-95-8ac4998aee53>\u001b[0m in \u001b[0;36m<module>\u001b[1;34m\u001b[0m\n\u001b[0;32m      1\u001b[0m \u001b[0mmarginals\u001b[0m \u001b[1;33m=\u001b[0m \u001b[1;33m[\u001b[0m\u001b[1;33m]\u001b[0m\u001b[1;33m\u001b[0m\u001b[1;33m\u001b[0m\u001b[0m\n\u001b[0;32m      2\u001b[0m \u001b[1;32mfor\u001b[0m \u001b[0mt\u001b[0m \u001b[1;32min\u001b[0m \u001b[1;33m[\u001b[0m\u001b[1;36m250\u001b[0m\u001b[1;33m,\u001b[0m \u001b[1;36m500\u001b[0m\u001b[1;33m,\u001b[0m \u001b[1;36m750\u001b[0m\u001b[1;33m,\u001b[0m \u001b[1;36m1000\u001b[0m\u001b[1;33m,\u001b[0m \u001b[1;36m1250\u001b[0m\u001b[1;33m,\u001b[0m \u001b[1;36m1500\u001b[0m\u001b[1;33m,\u001b[0m \u001b[1;36m1750\u001b[0m\u001b[1;33m,\u001b[0m \u001b[1;36m2000\u001b[0m\u001b[1;33m]\u001b[0m\u001b[1;33m:\u001b[0m\u001b[1;33m\u001b[0m\u001b[1;33m\u001b[0m\u001b[0m\n\u001b[1;32m----> 3\u001b[1;33m     \u001b[0mmarginals\u001b[0m\u001b[1;33m.\u001b[0m\u001b[0mappend\u001b[0m\u001b[1;33m(\u001b[0m\u001b[0mnp\u001b[0m\u001b[1;33m.\u001b[0m\u001b[0mmean\u001b[0m\u001b[1;33m(\u001b[0m\u001b[1;33m[\u001b[0m\u001b[0mcoverage_at_t_fixed\u001b[0m\u001b[1;33m(\u001b[0m\u001b[0mt\u001b[0m\u001b[1;33m)\u001b[0m \u001b[1;32mfor\u001b[0m \u001b[0m_\u001b[0m \u001b[1;32min\u001b[0m \u001b[0mrange\u001b[0m\u001b[1;33m(\u001b[0m\u001b[1;36m10\u001b[0m\u001b[1;33m)\u001b[0m\u001b[1;33m]\u001b[0m\u001b[1;33m)\u001b[0m\u001b[1;33m)\u001b[0m\u001b[1;33m\u001b[0m\u001b[1;33m\u001b[0m\u001b[0m\n\u001b[0m\u001b[0;32m      4\u001b[0m \u001b[1;33m\u001b[0m\u001b[0m\n",
      "\u001b[1;32m<ipython-input-95-8ac4998aee53>\u001b[0m in \u001b[0;36m<listcomp>\u001b[1;34m(.0)\u001b[0m\n\u001b[0;32m      1\u001b[0m \u001b[0mmarginals\u001b[0m \u001b[1;33m=\u001b[0m \u001b[1;33m[\u001b[0m\u001b[1;33m]\u001b[0m\u001b[1;33m\u001b[0m\u001b[1;33m\u001b[0m\u001b[0m\n\u001b[0;32m      2\u001b[0m \u001b[1;32mfor\u001b[0m \u001b[0mt\u001b[0m \u001b[1;32min\u001b[0m \u001b[1;33m[\u001b[0m\u001b[1;36m250\u001b[0m\u001b[1;33m,\u001b[0m \u001b[1;36m500\u001b[0m\u001b[1;33m,\u001b[0m \u001b[1;36m750\u001b[0m\u001b[1;33m,\u001b[0m \u001b[1;36m1000\u001b[0m\u001b[1;33m,\u001b[0m \u001b[1;36m1250\u001b[0m\u001b[1;33m,\u001b[0m \u001b[1;36m1500\u001b[0m\u001b[1;33m,\u001b[0m \u001b[1;36m1750\u001b[0m\u001b[1;33m,\u001b[0m \u001b[1;36m2000\u001b[0m\u001b[1;33m]\u001b[0m\u001b[1;33m:\u001b[0m\u001b[1;33m\u001b[0m\u001b[1;33m\u001b[0m\u001b[0m\n\u001b[1;32m----> 3\u001b[1;33m     \u001b[0mmarginals\u001b[0m\u001b[1;33m.\u001b[0m\u001b[0mappend\u001b[0m\u001b[1;33m(\u001b[0m\u001b[0mnp\u001b[0m\u001b[1;33m.\u001b[0m\u001b[0mmean\u001b[0m\u001b[1;33m(\u001b[0m\u001b[1;33m[\u001b[0m\u001b[0mcoverage_at_t_fixed\u001b[0m\u001b[1;33m(\u001b[0m\u001b[0mt\u001b[0m\u001b[1;33m)\u001b[0m \u001b[1;32mfor\u001b[0m \u001b[0m_\u001b[0m \u001b[1;32min\u001b[0m \u001b[0mrange\u001b[0m\u001b[1;33m(\u001b[0m\u001b[1;36m10\u001b[0m\u001b[1;33m)\u001b[0m\u001b[1;33m]\u001b[0m\u001b[1;33m)\u001b[0m\u001b[1;33m)\u001b[0m\u001b[1;33m\u001b[0m\u001b[1;33m\u001b[0m\u001b[0m\n\u001b[0m\u001b[0;32m      4\u001b[0m \u001b[1;33m\u001b[0m\u001b[0m\n",
      "\u001b[1;32m<ipython-input-94-6159ab47add8>\u001b[0m in \u001b[0;36mcoverage_at_t_fixed\u001b[1;34m(t, mu, alpha)\u001b[0m\n\u001b[0;32m      6\u001b[0m     \u001b[0mresult\u001b[0m \u001b[1;33m=\u001b[0m \u001b[1;33m[\u001b[0m\u001b[1;33m]\u001b[0m\u001b[1;33m\u001b[0m\u001b[1;33m\u001b[0m\u001b[0m\n\u001b[0;32m      7\u001b[0m     \u001b[1;32mfor\u001b[0m \u001b[0mi\u001b[0m \u001b[1;32min\u001b[0m \u001b[0mrange\u001b[0m\u001b[1;33m(\u001b[0m\u001b[1;36m100\u001b[0m\u001b[1;33m,\u001b[0m \u001b[0mt\u001b[0m\u001b[1;33m+\u001b[0m\u001b[1;36m1\u001b[0m\u001b[1;33m)\u001b[0m\u001b[1;33m:\u001b[0m\u001b[1;33m\u001b[0m\u001b[1;33m\u001b[0m\u001b[0m\n\u001b[1;32m----> 8\u001b[1;33m         \u001b[0mabs_seq\u001b[0m \u001b[1;33m=\u001b[0m  \u001b[0mabs\u001b[0m\u001b[1;33m(\u001b[0m\u001b[0mseq\u001b[0m\u001b[1;33m[\u001b[0m\u001b[1;36m0\u001b[0m\u001b[1;33m:\u001b[0m\u001b[0mi\u001b[0m\u001b[1;33m]\u001b[0m\u001b[1;33m)\u001b[0m\u001b[1;33m\u001b[0m\u001b[1;33m\u001b[0m\u001b[0m\n\u001b[0m\u001b[0;32m      9\u001b[0m         \u001b[0mcomparison\u001b[0m \u001b[1;33m=\u001b[0m \u001b[0mabs_seq\u001b[0m \u001b[1;33m<\u001b[0m \u001b[0mabs_seq\u001b[0m\u001b[1;33m[\u001b[0m\u001b[1;33m-\u001b[0m\u001b[1;36m1\u001b[0m\u001b[1;33m]\u001b[0m\u001b[1;33m\u001b[0m\u001b[1;33m\u001b[0m\u001b[0m\n\u001b[0;32m     10\u001b[0m         \u001b[0mresult\u001b[0m\u001b[1;33m.\u001b[0m\u001b[0mappend\u001b[0m\u001b[1;33m(\u001b[0m\u001b[0msum\u001b[0m\u001b[1;33m(\u001b[0m\u001b[0mcomparison\u001b[0m\u001b[1;33m)\u001b[0m \u001b[1;33m<=\u001b[0m \u001b[1;33m(\u001b[0m\u001b[1;36m1\u001b[0m \u001b[1;33m-\u001b[0m \u001b[0malpha\u001b[0m\u001b[1;33m)\u001b[0m \u001b[1;33m*\u001b[0m \u001b[0mlen\u001b[0m\u001b[1;33m(\u001b[0m\u001b[0mabs_seq\u001b[0m\u001b[1;33m)\u001b[0m\u001b[1;33m)\u001b[0m\u001b[1;33m\u001b[0m\u001b[1;33m\u001b[0m\u001b[0m\n",
      "\u001b[1;31mKeyboardInterrupt\u001b[0m: "
     ]
    }
   ],
   "source": [
    "marginals = []\n",
    "for t in [250, 500, 750, 1000, 1250, 1500, 1750, 2000]:\n",
    "    marginals.append(np.mean([coverage_at_t_fixed(t) for _ in range(10)]))\n",
    "        "
   ]
  },
  {
   "cell_type": "code",
   "execution_count": 44,
   "id": "5bb773f6",
   "metadata": {},
   "outputs": [],
   "source": [
    " marginals.append(np.mean([coverage_at_t_fixed(5000) for _ in range(10)]))"
   ]
  },
  {
   "cell_type": "code",
   "execution_count": 47,
   "id": "76d051a6",
   "metadata": {
    "scrolled": true
   },
   "outputs": [
    {
     "data": {
      "text/plain": [
       "Text(0, 0.5, 'coverage')"
      ]
     },
     "execution_count": 47,
     "metadata": {},
     "output_type": "execute_result"
    },
    {
     "data": {
      "image/png": "[encoded data removed]",
      "text/plain": [
       "<Figure size 432x288 with 1 Axes>"
      ]
     },
     "metadata": {
      "needs_background": "light"
     },
     "output_type": "display_data"
    }
   ],
   "source": [
    "plt.plot([250, 500, 750, 1000, 1250, 1500, 1750, 2000], marginals[0:-1])\n",
    "plt.xlabel('by time t', size = 13)\n",
    "plt.ylabel('coverage', size = 13)"
   ]
  },
  {
   "cell_type": "code",
   "execution_count": 62,
   "id": "fd8b41fe",
   "metadata": {},
   "outputs": [
    {
     "data": {
      "text/plain": [
       "0.9705774331769026"
      ]
     },
     "execution_count": 62,
     "metadata": {},
     "output_type": "execute_result"
    }
   ],
   "source": [
    "marginals[-1]"
   ]
  },
  {
   "cell_type": "code",
   "execution_count": 101,
   "id": "7f35eac8",
   "metadata": {},
   "outputs": [
    {
     "data": {
      "text/plain": [
       "[0.9986754966887418,\n",
       " 0.9970074812967582,\n",
       " 0.9946236559139784,\n",
       " 0.9932297447280799,\n",
       " 0.9891398783666376,\n",
       " 0.9875802997858673,\n",
       " 0.9854027861901876]"
      ]
     },
     "execution_count": 101,
     "metadata": {},
     "output_type": "execute_result"
    }
   ],
   "source": [
    "marginals "
   ]
  },
  {
   "cell_type": "markdown",
   "id": "5bb66edd",
   "metadata": {},
   "source": [
    "#### We observe that we are more conservative at an earlier t than at a later t (target coverage is 0.95). Intuitively the effect of the outliers diminish as more nulls adding in. At t = 5000, the coverage is about 0.97"
   ]
  },
  {
   "cell_type": "markdown",
   "id": "8b3c274d",
   "metadata": {},
   "source": [
    "#### What if the outliers are further away from the true distribution? That is, drawn from $N(10, 1)$"
   ]
  },
  {
   "cell_type": "code",
   "execution_count": 50,
   "id": "12f406ca",
   "metadata": {},
   "outputs": [
    {
     "data": {
      "text/plain": [
       "Text(0, 0.5, 'coverage')"
      ]
     },
     "execution_count": 50,
     "metadata": {},
     "output_type": "execute_result"
    },
    {
     "data": {
      "image/png": "[encoded data removed]",
      "text/plain": [
       "<Figure size 432x288 with 1 Axes>"
      ]
     },
     "metadata": {
      "needs_background": "light"
     },
     "output_type": "display_data"
    }
   ],
   "source": [
    "marginals_v2 = []\n",
    "for t in [250, 500, 750, 1000, 1250, 1500, 1750, 2000]:\n",
    "    marginals_v2.append(np.mean([coverage_at_t_fixed(t, mu = 10) for _ in range(10)]))\n",
    "    \n",
    "plt.plot([250, 500, 750, 1000, 1250, 1500, 1750, 2000], marginals_v2)\n",
    "plt.xlabel('by time t', size = 13)\n",
    "plt.ylabel('coverage', size = 13)"
   ]
  },
  {
   "cell_type": "markdown",
   "id": "4567981e",
   "metadata": {},
   "source": [
    "#### We have coverge = 1 (no nulls rejected) . The explanation is that the outliers are very large so they are always in the upper tail. We have 100 outliers and they mostly occupy the $100/2000 = 0.05$ upper tail so we won't reject any nulls until a later t\n",
    "\n",
    "#### b) Now consider we have a fixed fraction of outliers. Naturally, at time t, we flip a coin to determine whether $Y_t$ is from the null or not. Let's start with 5% chance of outliers drawn from $N(10, 1)$ far away from nulls ($N(0, 1)$)"
   ]
  },
  {
   "cell_type": "code",
   "execution_count": 99,
   "id": "9886988c",
   "metadata": {},
   "outputs": [],
   "source": [
    "def coverage_at_t_random(t, mu = 2, alpha = 0.05, p = 0.05): ## t>= 100\n",
    "    \n",
    "    z = np.random.uniform(0, 1, t) >= p\n",
    "    seq = np.random.normal(0, 1, t) * (z) + np.random.normal(mu, 1, t) * (1-z)\n",
    "    result = []\n",
    "    for i in range(t):\n",
    "        abs_seq =  abs(seq[0:i+1])\n",
    "        comparison = abs_seq < abs_seq[-1]\n",
    "        result.append(sum(comparison) <= (1 - alpha) * len(abs_seq))\n",
    "    null_size = sum(z) \n",
    "    return sum(np.array(result)[z])/null_size"
   ]
  },
  {
   "cell_type": "code",
   "execution_count": 100,
   "id": "27cc9655",
   "metadata": {},
   "outputs": [
    {
     "data": {
      "text/plain": [
       "Text(0, 0.5, 'coverage')"
      ]
     },
     "execution_count": 100,
     "metadata": {},
     "output_type": "execute_result"
    },
    {
     "data": {
      "image/png": "[encoded data removed]",
      "text/plain": [
       "<Figure size 432x288 with 1 Axes>"
      ]
     },
     "metadata": {
      "needs_background": "light"
     },
     "output_type": "display_data"
    }
   ],
   "source": [
    "m3 = []\n",
    "for t in [250, 500, 750, 1000, 1250, 1500, 1750, 2000]:\n",
    "    m3.append(np.mean([coverage_at_t_random(t, mu = 10) for _ in range(10)]))\n",
    "    \n",
    "plt.plot([250, 500, 750, 1000, 1250, 1500, 1750, 2000], m3)\n",
    "plt.xlabel('by time t', size = 13)\n",
    "plt.ylabel('coverage', size = 13)"
   ]
  },
  {
   "cell_type": "markdown",
   "id": "787e29cc",
   "metadata": {},
   "source": [
    "#### So the coverage is very close to 1. It suggests that the prediction intervel becomes trivial for the nulls (Too loose). To visualize, we can see that: (Intuitively, if the outliers are very far away from nulls, we need to reject at $p + \\alpha$ to achieve $\\alpha$ coverage"
   ]
  },
  {
   "cell_type": "code",
   "execution_count": 102,
   "id": "66b8c5c1",
   "metadata": {},
   "outputs": [],
   "source": [
    "t = 1000\n",
    "p = 0.05\n",
    "alpha = 0.05\n",
    "mu = 10\n",
    "np.random.seed(123)\n",
    "z = np.random.uniform(0, 1, t) >= p\n",
    "seq = np.random.normal(0, 1, t) * (z) + np.random.normal(mu, 1, t) * (1-z)"
   ]
  },
  {
   "cell_type": "code",
   "execution_count": 109,
   "id": "3f43494f",
   "metadata": {},
   "outputs": [],
   "source": [
    "h = np.quantile(np.abs(seq), 0.95)"
   ]
  },
  {
   "cell_type": "code",
   "execution_count": 117,
   "id": "3181d987",
   "metadata": {},
   "outputs": [
    {
     "data": {
      "text/plain": [
       "Text(0.5, 1.0, '0.95 quantile for t = 1000')"
      ]
     },
     "execution_count": 117,
     "metadata": {},
     "output_type": "execute_result"
    },
    {
     "data": {
      "image/png": "[encoded data removed]",
      "text/plain": [
       "<Figure size 432x288 with 1 Axes>"
      ]
     },
     "metadata": {
      "needs_background": "light"
     },
     "output_type": "display_data"
    }
   ],
   "source": [
    "plt.scatter(range(t), seq, s = 1)\n",
    "plt.plot([0, 1000], [h, h], color = 'red')\n",
    "plt.plot([0, 1000], [-h, -h], color = 'red')\n",
    "plt.xlabel('t', size = 13)\n",
    "plt.ylabel('Y', size = 13)\n",
    "plt.title('0.95 quantile for t = 1000')"
   ]
  },
  {
   "cell_type": "markdown",
   "id": "a4502356",
   "metadata": {},
   "source": [
    "#### The prediction interval is quite loose. The problem is that $\\alpha$ is small, so even a small fraction of outliers can ruin the whole test. On the other hand, it seems that in the case above, the outliers can be detected very easily. How should we modify this procedure? "
   ]
  },
  {
   "cell_type": "code",
   "execution_count": null,
   "id": "fdb8d1c7",
   "metadata": {},
   "outputs": [],
   "source": []
  }
 ],
 "metadata": {
  "kernelspec": {
   "display_name": "Python 3",
   "language": "python",
   "name": "python3"
  },
  "language_info": {
   "codemirror_mode": {
    "name": "ipython",
    "version": 3
   },
   "file_extension": ".py",
   "mimetype": "text/x-python",
   "name": "python",
   "nbconvert_exporter": "python",
   "pygments_lexer": "ipython3",
   "version": "3.8.8"
  }
 },
 "nbformat": 4,
 "nbformat_minor": 5
}
